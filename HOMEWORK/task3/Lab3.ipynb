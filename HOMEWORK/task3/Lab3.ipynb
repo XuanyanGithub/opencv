{
 "cells": [
  {
   "cell_type": "markdown",
   "metadata": {},
   "source": [
    "# Practical lesson №3 \n",
    "## \"Photo cards of Sergey Prokudin-Gorsky\""
   ]
  },
  {
   "cell_type": "markdown",
   "metadata": {},
   "source": [
    "Write a function (combine_channels) which combine the photo cards of Sergey Prokudin-Gorsky (00.png-10.png) in color images. The function get a photo card and return a three-channel RGB image.\n",
    "Algorithm:\n",
    "1. Divide the negative vertically into three equal parts. You should get 3 channels of the same size image.\n",
    "2. Remove 5% of each channel from each side because it contain the frame of the photo card.\n",
    "3. Compare green and blue channels:\n",
    "    - shift sequentially one channel relative to another from -15 to 15 rows (a function of roll, numpy);\n",
    "        - shift sequentially one channel relative to another from -15 to 15 columns (a function of roll, numpy);\n",
    "            - calculate the similarity measure using correlation (correlation = (g * b)).sum()) for each shift;\n",
    "\n",
    "The higher correlation value means that it is the best fit.\n",
    "4. Compare green and red channels:\n",
    "    - shift sequentially one channel relative to another from -15 to 15 rows (a function of roll, numpy);\n",
    "        - shift sequentially one channel relative to another from -15 to 15 columns (a function of roll, numpy);\n",
    "            - calculate the similarity measure using correlation (correlation = (g * b)).sum()) for each shift;\n",
    "5. Bring together all channels with the best shift.\n",
    "\n",
    "You can find more information about Sergey Prokudin-Gorsky from link (https://en.wikipedia.org/wiki/Sergey_Prokudin-Gorsky)\n",
    "\n",
    "Convert each photo card in RGB image."
   ]
  },
  {
   "cell_type": "code",
   "execution_count": 42,
   "metadata": {},
   "outputs": [],
   "source": [
    "def combine_channels(img):\n",
    "    # Код тут\n",
    "    \n",
    "    return new_img"
   ]
  }
 ],
 "metadata": {
  "kernelspec": {
   "display_name": "Python 3",
   "language": "python",
   "name": "python3"
  },
  "language_info": {
   "codemirror_mode": {
    "name": "ipython",
    "version": 3
   },
   "file_extension": ".py",
   "mimetype": "text/x-python",
   "name": "python",
   "nbconvert_exporter": "python",
   "pygments_lexer": "ipython3",
   "version": "3.6.8"
  }
 },
 "nbformat": 4,
 "nbformat_minor": 2
}
